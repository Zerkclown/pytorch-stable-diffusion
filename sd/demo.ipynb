{
  "cells": [
    {
      "cell_type": "code",
      "execution_count": 1,
      "metadata": {
        "cellView": "form",
        "id": "x_dhQfFYXoPu"
      },
      "outputs": [
        {
          "name": "stderr",
          "output_type": "stream",
          "text": [
            "/Users/amahmed/Desktop/UMass/Thesis/models/.venv/lib/python3.12/site-packages/tqdm/auto.py:21: TqdmWarning: IProgress not found. Please update jupyter and ipywidgets. See https://ipywidgets.readthedocs.io/en/stable/user_install.html\n",
            "  from .autonotebook import tqdm as notebook_tqdm\n",
            "/var/folders/cm/6lf2qlhd437d56z2j9mprb480000gn/T/ipykernel_90855/2764035491.py:15: UserWarning: 'has_mps' is deprecated, please use 'torch.backends.mps.is_built()'\n",
            "  elif (torch.has_mps or torch.backends.mps.is_available() or torch.backends.mps.is_built()) and ALLOW_MPS:\n"
          ]
        },
        {
          "name": "stdout",
          "output_type": "stream",
          "text": [
            "Using device: cpu\n"
          ]
        },
        {
          "ename": "RuntimeError",
          "evalue": "The size of tensor a (16) must match the size of tensor b (64) at non-singleton dimension 3",
          "output_type": "error",
          "traceback": [
            "\u001b[0;31m---------------------------------------------------------------------------\u001b[0m",
            "\u001b[0;31mRuntimeError\u001b[0m                              Traceback (most recent call last)",
            "Cell \u001b[0;32mIn[1], line 51\u001b[0m\n\u001b[1;32m     48\u001b[0m num_inference_steps \u001b[38;5;241m=\u001b[39m \u001b[38;5;241m50\u001b[39m\n\u001b[1;32m     49\u001b[0m seed \u001b[38;5;241m=\u001b[39m \u001b[38;5;241m42\u001b[39m\n\u001b[0;32m---> 51\u001b[0m output_image \u001b[38;5;241m=\u001b[39m \u001b[43mpipeline\u001b[49m\u001b[38;5;241;43m.\u001b[39;49m\u001b[43mgenerate\u001b[49m\u001b[43m(\u001b[49m\n\u001b[1;32m     52\u001b[0m \u001b[43m    \u001b[49m\u001b[43mlatent_size\u001b[49m\u001b[38;5;241;43m=\u001b[39;49m\u001b[38;5;241;43m64\u001b[39;49m\u001b[43m,\u001b[49m\n\u001b[1;32m     53\u001b[0m \u001b[43m    \u001b[49m\u001b[43mprompt\u001b[49m\u001b[38;5;241;43m=\u001b[39;49m\u001b[43mprompt\u001b[49m\u001b[43m,\u001b[49m\n\u001b[1;32m     54\u001b[0m \u001b[43m    \u001b[49m\u001b[43muncond_prompt\u001b[49m\u001b[38;5;241;43m=\u001b[39;49m\u001b[43muncond_prompt\u001b[49m\u001b[43m,\u001b[49m\n\u001b[1;32m     55\u001b[0m \u001b[43m    \u001b[49m\u001b[43minput_image\u001b[49m\u001b[38;5;241;43m=\u001b[39;49m\u001b[43minput_image\u001b[49m\u001b[43m,\u001b[49m\n\u001b[1;32m     56\u001b[0m \u001b[43m    \u001b[49m\u001b[43mstrength\u001b[49m\u001b[38;5;241;43m=\u001b[39;49m\u001b[43mstrength\u001b[49m\u001b[43m,\u001b[49m\n\u001b[1;32m     57\u001b[0m \u001b[43m    \u001b[49m\u001b[43mdo_cfg\u001b[49m\u001b[38;5;241;43m=\u001b[39;49m\u001b[43mdo_cfg\u001b[49m\u001b[43m,\u001b[49m\n\u001b[1;32m     58\u001b[0m \u001b[43m    \u001b[49m\u001b[43mcfg_scale\u001b[49m\u001b[38;5;241;43m=\u001b[39;49m\u001b[43mcfg_scale\u001b[49m\u001b[43m,\u001b[49m\n\u001b[1;32m     59\u001b[0m \u001b[43m    \u001b[49m\u001b[43msampler_name\u001b[49m\u001b[38;5;241;43m=\u001b[39;49m\u001b[43msampler\u001b[49m\u001b[43m,\u001b[49m\n\u001b[1;32m     60\u001b[0m \u001b[43m    \u001b[49m\u001b[43mn_inference_steps\u001b[49m\u001b[38;5;241;43m=\u001b[39;49m\u001b[43mnum_inference_steps\u001b[49m\u001b[43m,\u001b[49m\n\u001b[1;32m     61\u001b[0m \u001b[43m    \u001b[49m\u001b[43mseed\u001b[49m\u001b[38;5;241;43m=\u001b[39;49m\u001b[43mseed\u001b[49m\u001b[43m,\u001b[49m\n\u001b[1;32m     62\u001b[0m \u001b[43m    \u001b[49m\u001b[43mmodels\u001b[49m\u001b[38;5;241;43m=\u001b[39;49m\u001b[43mmodels\u001b[49m\u001b[43m,\u001b[49m\n\u001b[1;32m     63\u001b[0m \u001b[43m    \u001b[49m\u001b[43mdevice\u001b[49m\u001b[38;5;241;43m=\u001b[39;49m\u001b[43mDEVICE\u001b[49m\u001b[43m,\u001b[49m\n\u001b[1;32m     64\u001b[0m \u001b[43m    \u001b[49m\u001b[43midle_device\u001b[49m\u001b[38;5;241;43m=\u001b[39;49m\u001b[38;5;124;43m\"\u001b[39;49m\u001b[38;5;124;43mcpu\u001b[39;49m\u001b[38;5;124;43m\"\u001b[39;49m\u001b[43m,\u001b[49m\n\u001b[1;32m     65\u001b[0m \u001b[43m    \u001b[49m\u001b[43mtokenizer\u001b[49m\u001b[38;5;241;43m=\u001b[39;49m\u001b[43mtokenizer\u001b[49m\u001b[43m,\u001b[49m\n\u001b[1;32m     66\u001b[0m \u001b[43m)\u001b[49m\n\u001b[1;32m     68\u001b[0m \u001b[38;5;28mprint\u001b[39m(\u001b[38;5;124mf\u001b[39m\u001b[38;5;124m\"\u001b[39m\u001b[38;5;124mz\u001b[39m\u001b[38;5;124m'\u001b[39m\u001b[38;5;124ms shape: \u001b[39m\u001b[38;5;132;01m{\u001b[39;00moutput_image\u001b[38;5;241m.\u001b[39mshape\u001b[38;5;132;01m}\u001b[39;00m\u001b[38;5;124m,\u001b[39m\u001b[38;5;130;01m\\n\u001b[39;00m\u001b[38;5;124mz: \u001b[39m\u001b[38;5;132;01m{\u001b[39;00moutput_image\u001b[38;5;132;01m}\u001b[39;00m\u001b[38;5;124m\"\u001b[39m)\n\u001b[1;32m     71\u001b[0m \u001b[38;5;66;03m# Combine the input image and the output image into a single image.\u001b[39;00m\n\u001b[1;32m     72\u001b[0m \u001b[38;5;66;03m# Image.fromarray(output_image)\u001b[39;00m\n",
            "File \u001b[0;32m~/Desktop/UMass/Thesis/models/pytorch-stable-diffusion/sd/pipeline.py:110\u001b[0m, in \u001b[0;36mgenerate\u001b[0;34m(latent_size, prompt, uncond_prompt, input_image, strength, do_cfg, cfg_scale, sampler_name, n_inference_steps, models, seed, device, idle_device, tokenizer)\u001b[0m\n\u001b[1;32m    108\u001b[0m encoder_noise \u001b[38;5;241m=\u001b[39m torch\u001b[38;5;241m.\u001b[39mrandn(latents_shape, generator\u001b[38;5;241m=\u001b[39mgenerator, device\u001b[38;5;241m=\u001b[39mdevice)\n\u001b[1;32m    109\u001b[0m \u001b[38;5;66;03m# (Batch_Size, 4, Latents_Height, Latents_Width)\u001b[39;00m\n\u001b[0;32m--> 110\u001b[0m latents \u001b[38;5;241m=\u001b[39m \u001b[43mencoder\u001b[49m\u001b[43m(\u001b[49m\u001b[43minput_image_tensor\u001b[49m\u001b[43m,\u001b[49m\u001b[43m \u001b[49m\u001b[43mencoder_noise\u001b[49m\u001b[43m)\u001b[49m\n\u001b[1;32m    112\u001b[0m \u001b[38;5;28;01mreturn\u001b[39;00m latents\n\u001b[1;32m    113\u001b[0m \u001b[38;5;28mprint\u001b[39m(\u001b[38;5;124mf\u001b[39m\u001b[38;5;124m\"\u001b[39m\u001b[38;5;124mz\u001b[39m\u001b[38;5;124m'\u001b[39m\u001b[38;5;124ms shape: \u001b[39m\u001b[38;5;132;01m{\u001b[39;00mlatents\u001b[38;5;241m.\u001b[39mshape\u001b[38;5;132;01m}\u001b[39;00m\u001b[38;5;124m,\u001b[39m\u001b[38;5;130;01m\\n\u001b[39;00m\u001b[38;5;124mz: \u001b[39m\u001b[38;5;132;01m{\u001b[39;00mlatents\u001b[38;5;132;01m}\u001b[39;00m\u001b[38;5;124m\"\u001b[39m)\n",
            "File \u001b[0;32m~/Desktop/UMass/Thesis/models/.venv/lib/python3.12/site-packages/torch/nn/modules/module.py:1511\u001b[0m, in \u001b[0;36mModule._wrapped_call_impl\u001b[0;34m(self, *args, **kwargs)\u001b[0m\n\u001b[1;32m   1509\u001b[0m     \u001b[38;5;28;01mreturn\u001b[39;00m \u001b[38;5;28mself\u001b[39m\u001b[38;5;241m.\u001b[39m_compiled_call_impl(\u001b[38;5;241m*\u001b[39margs, \u001b[38;5;241m*\u001b[39m\u001b[38;5;241m*\u001b[39mkwargs)  \u001b[38;5;66;03m# type: ignore[misc]\u001b[39;00m\n\u001b[1;32m   1510\u001b[0m \u001b[38;5;28;01melse\u001b[39;00m:\n\u001b[0;32m-> 1511\u001b[0m     \u001b[38;5;28;01mreturn\u001b[39;00m \u001b[38;5;28;43mself\u001b[39;49m\u001b[38;5;241;43m.\u001b[39;49m\u001b[43m_call_impl\u001b[49m\u001b[43m(\u001b[49m\u001b[38;5;241;43m*\u001b[39;49m\u001b[43margs\u001b[49m\u001b[43m,\u001b[49m\u001b[43m \u001b[49m\u001b[38;5;241;43m*\u001b[39;49m\u001b[38;5;241;43m*\u001b[39;49m\u001b[43mkwargs\u001b[49m\u001b[43m)\u001b[49m\n",
            "File \u001b[0;32m~/Desktop/UMass/Thesis/models/.venv/lib/python3.12/site-packages/torch/nn/modules/module.py:1520\u001b[0m, in \u001b[0;36mModule._call_impl\u001b[0;34m(self, *args, **kwargs)\u001b[0m\n\u001b[1;32m   1515\u001b[0m \u001b[38;5;66;03m# If we don't have any hooks, we want to skip the rest of the logic in\u001b[39;00m\n\u001b[1;32m   1516\u001b[0m \u001b[38;5;66;03m# this function, and just call forward.\u001b[39;00m\n\u001b[1;32m   1517\u001b[0m \u001b[38;5;28;01mif\u001b[39;00m \u001b[38;5;129;01mnot\u001b[39;00m (\u001b[38;5;28mself\u001b[39m\u001b[38;5;241m.\u001b[39m_backward_hooks \u001b[38;5;129;01mor\u001b[39;00m \u001b[38;5;28mself\u001b[39m\u001b[38;5;241m.\u001b[39m_backward_pre_hooks \u001b[38;5;129;01mor\u001b[39;00m \u001b[38;5;28mself\u001b[39m\u001b[38;5;241m.\u001b[39m_forward_hooks \u001b[38;5;129;01mor\u001b[39;00m \u001b[38;5;28mself\u001b[39m\u001b[38;5;241m.\u001b[39m_forward_pre_hooks\n\u001b[1;32m   1518\u001b[0m         \u001b[38;5;129;01mor\u001b[39;00m _global_backward_pre_hooks \u001b[38;5;129;01mor\u001b[39;00m _global_backward_hooks\n\u001b[1;32m   1519\u001b[0m         \u001b[38;5;129;01mor\u001b[39;00m _global_forward_hooks \u001b[38;5;129;01mor\u001b[39;00m _global_forward_pre_hooks):\n\u001b[0;32m-> 1520\u001b[0m     \u001b[38;5;28;01mreturn\u001b[39;00m \u001b[43mforward_call\u001b[49m\u001b[43m(\u001b[49m\u001b[38;5;241;43m*\u001b[39;49m\u001b[43margs\u001b[49m\u001b[43m,\u001b[49m\u001b[43m \u001b[49m\u001b[38;5;241;43m*\u001b[39;49m\u001b[38;5;241;43m*\u001b[39;49m\u001b[43mkwargs\u001b[49m\u001b[43m)\u001b[49m\n\u001b[1;32m   1522\u001b[0m \u001b[38;5;28;01mtry\u001b[39;00m:\n\u001b[1;32m   1523\u001b[0m     result \u001b[38;5;241m=\u001b[39m \u001b[38;5;28;01mNone\u001b[39;00m\n",
            "File \u001b[0;32m~/Desktop/UMass/Thesis/models/pytorch-stable-diffusion/sd/encoder.py:97\u001b[0m, in \u001b[0;36mVAE_Encoder.forward\u001b[0;34m(self, x, noise)\u001b[0m\n\u001b[1;32m     93\u001b[0m stdev \u001b[38;5;241m=\u001b[39m variance\u001b[38;5;241m.\u001b[39msqrt()\n\u001b[1;32m     95\u001b[0m \u001b[38;5;66;03m# Transform N(0, 1) -> N(mean, stdev) \u001b[39;00m\n\u001b[1;32m     96\u001b[0m \u001b[38;5;66;03m# (Batch_Size, 4, Height / 8, Width / 8) -> (Batch_Size, 4, Height / 8, Width / 8)\u001b[39;00m\n\u001b[0;32m---> 97\u001b[0m x \u001b[38;5;241m=\u001b[39m mean \u001b[38;5;241m+\u001b[39m \u001b[43mstdev\u001b[49m\u001b[43m \u001b[49m\u001b[38;5;241;43m*\u001b[39;49m\u001b[43m \u001b[49m\u001b[43mnoise\u001b[49m\n\u001b[1;32m     99\u001b[0m \u001b[38;5;66;03m# Scale by a constant\u001b[39;00m\n\u001b[1;32m    100\u001b[0m \u001b[38;5;66;03m# Constant taken from: https://github.com/CompVis/stable-diffusion/blob/21f890f9da3cfbeaba8e2ac3c425ee9e998d5229/configs/stable-diffusion/v1-inference.yaml#L17C1-L17C1\u001b[39;00m\n\u001b[1;32m    101\u001b[0m x \u001b[38;5;241m*\u001b[39m\u001b[38;5;241m=\u001b[39m \u001b[38;5;241m0.18215\u001b[39m\n",
            "\u001b[0;31mRuntimeError\u001b[0m: The size of tensor a (16) must match the size of tensor b (64) at non-singleton dimension 3"
          ]
        }
      ],
      "source": [
        "import model_loader\n",
        "import pipeline\n",
        "from PIL import Image\n",
        "from pathlib import Path\n",
        "from transformers import CLIPTokenizer\n",
        "import torch\n",
        "\n",
        "DEVICE = \"cpu\"\n",
        "\n",
        "ALLOW_CUDA = False\n",
        "ALLOW_MPS = False\n",
        "\n",
        "if torch.cuda.is_available() and ALLOW_CUDA:\n",
        "    DEVICE = \"cuda\"\n",
        "elif (torch.has_mps or torch.backends.mps.is_available() or torch.backends.mps.is_built()) and ALLOW_MPS:\n",
        "    DEVICE = \"mps\"\n",
        "print(f\"Using device: {DEVICE}\")\n",
        "\n",
        "\n",
        "\n",
        "tokenizer = CLIPTokenizer(\"../data/vocab.json\", merges_file=\"../data/merges.txt\")\n",
        "model_file = \"../data/v1-5-pruned-emaonly.ckpt\"\n",
        "models = model_loader.preload_models_from_standard_weights(model_file, DEVICE)\n",
        "\n",
        "## TEXT TO IMAGE\n",
        "\n",
        "# prompt = \"A dog with sunglasses, wearing comfy hat, looking at camera, highly detailed, ultra sharp, cinematic, 100mm lens, 8k resolution.\"\n",
        "# prompt = \"A dog stretching on the floor, highly detailed, ultra sharp, cinematic, 100mm lens, 8k resolution.\"\n",
        "# prompt = \"A camel in the desert wearing sunglasses highly detailed, ultra sharp, cinematic, 100mm lens, 8k resolution.\"\n",
        "prompt = \"\" # did it not work, or is the image useless?\n",
        "uncond_prompt = \"\"  # Also known as negative prompt\n",
        "do_cfg = True\n",
        "cfg_scale = 8  # min: 1, max: 14\n",
        "\n",
        "## IMAGE TO IMAGE\n",
        "\n",
        "input_image = None\n",
        "# Comment to disable image to image\n",
        "image_path = \"../images/signal.jpg\" # must be a jpeg\n",
        "input_image = Image.open(image_path)\n",
        "# Higher values means more noise will be added to the input image, so the result will further from the input image.\n",
        "# Lower values means less noise is added to the input image, so output will be closer to the input image.\n",
        "strength = 0.1\n",
        "\n",
        "## SAMPLER\n",
        "\n",
        "sampler = \"ddpm\"\n",
        "num_inference_steps = 50\n",
        "seed = 42\n",
        "\n",
        "output_image = pipeline.generate(\n",
        "    prompt=prompt,\n",
        "    uncond_prompt=uncond_prompt,\n",
        "    input_image=input_image,\n",
        "    strength=strength,\n",
        "    do_cfg=do_cfg,\n",
        "    cfg_scale=cfg_scale,\n",
        "    sampler_name=sampler,\n",
        "    n_inference_steps=num_inference_steps,\n",
        "    seed=seed,\n",
        "    models=models,\n",
        "    device=DEVICE,\n",
        "    idle_device=\"cpu\",\n",
        "    tokenizer=tokenizer,\n",
        ")\n",
        "\n",
        "print(f\"z's shape: {output_image.shape},\\nz: {output_image}\")\n",
        "\n",
        "\n",
        "# Combine the input image and the output image into a single image.\n",
        "# Image.fromarray(output_image)"
      ]
    },
    {
      "cell_type": "code",
      "execution_count": null,
      "metadata": {},
      "outputs": [
        {
          "name": "stdout",
          "output_type": "stream",
          "text": [
            "z's shape: (128, 128, 3),\n",
            "z: [[[247 245 247]\n",
            "  [247 246 246]\n",
            "  [247 246 252]\n",
            "  ...\n",
            "  [247 254 251]\n",
            "  [243 251 254]\n",
            "  [243 255 249]]\n",
            "\n",
            " [[248 245 252]\n",
            "  [246 248 250]\n",
            "  [248 249 249]\n",
            "  ...\n",
            "  [244 255 251]\n",
            "  [246 251 250]\n",
            "  [245 255 254]]\n",
            "\n",
            " [[247 243 251]\n",
            "  [246 248 251]\n",
            "  [247 248 247]\n",
            "  ...\n",
            "  [246 254 252]\n",
            "  [247 252 252]\n",
            "  [246 254 255]]\n",
            "\n",
            " ...\n",
            "\n",
            " [[252 250 251]\n",
            "  [251 251 253]\n",
            "  [253 251 249]\n",
            "  ...\n",
            "  [253 254 248]\n",
            "  [255 251 247]\n",
            "  [251 255 248]]\n",
            "\n",
            " [[248 255 255]\n",
            "  [251 248 251]\n",
            "  [254 249 250]\n",
            "  ...\n",
            "  [253 252 248]\n",
            "  [253 252 246]\n",
            "  [251 254 249]]\n",
            "\n",
            " [[251 250 246]\n",
            "  [255 253 255]\n",
            "  [252 254 252]\n",
            "  ...\n",
            "  [252 255 254]\n",
            "  [253 255 253]\n",
            "  [251 255 241]]]\n"
          ]
        }
      ],
      "source": [
        "print(f\"z's shape: {output_image.shape},\\nz: {output_image}\")\n",
        "\n",
        "\n"
      ]
    }
  ],
  "metadata": {
    "accelerator": "GPU",
    "colab": {
      "collapsed_sections": [
        "iDI2dKfRWTId"
      ],
      "provenance": []
    },
    "gpuClass": "standard",
    "kernelspec": {
      "display_name": "Python 3",
      "name": "python3"
    },
    "language_info": {
      "codemirror_mode": {
        "name": "ipython",
        "version": 3
      },
      "file_extension": ".py",
      "mimetype": "text/x-python",
      "name": "python",
      "nbconvert_exporter": "python",
      "pygments_lexer": "ipython3",
      "version": "3.12.1"
    }
  },
  "nbformat": 4,
  "nbformat_minor": 0
}
